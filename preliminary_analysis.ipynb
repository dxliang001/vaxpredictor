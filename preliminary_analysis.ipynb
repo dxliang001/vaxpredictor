{
 "cells": [
  {
   "cell_type": "markdown",
   "metadata": {},
   "source": [
    "# Vax Predictor \n",
    "\n",
    "### Group Members\n",
    "- Alex Liang\n",
    "- Xing Yang\n",
    "- Edgar Pineda\n",
    "\n",
    "### Repository Structure\n",
    "List each file and what it's purpose it. Make sure you indicate where your data cleaning code and data dictionary are! \n",
    "\n",
    "For example:\n",
    "- `data`\n",
    "  - `continents2.csv`: all the continents data\n",
    "  - `country_vaccinations.csv`: population of each country's vaccinations\n",
    "  - `country_vaccinations_by_manufacturer.csv`: # of vax provide by each manufacture for each country\n",
    "  - `population_by_country_2020.csv`: Total # of people in each country. \n",
    "\n",
    "- `code`\n",
    "  - `etl_continents2.ipynb` \n",
    "  - `etl_country_vaccinations.ipynb`\n",
    "  - `etl_country_vaccinations_by_manufacturer.ipynb`\n",
    "  - `etl_population_by_country_2020.ipynb`\n",
    "\n",
    "\n",
    "### Exploratory Analysis\n",
    "Describe what work you have done so far and include the code. \n",
    "\n",
    "# We get the data from Kaggle \n",
    "  - `continents2.csv`\n",
    "  - `country_vaccinations.csv`\n",
    "  - `country_vaccinations_by_manufacturer.csv`\n",
    "  - `population_by_country_2020.csv`\n",
    "# and cleaning the data with NaN or Zero with the code\n",
    "  - `etl_continents2.ipynb`: Cleans `continents2.csv`\n",
    "  - `etl_country_vaccinations.ipynb`: Cleans `country_vaccinations.csv`\n",
    "  - `etl_country_vaccinations_by_manufacturer.ipynb`: Cleans `country_vaccinations_by_manufacturer.csv`\n",
    "  - `etl_population_by_country_2020.ipynb`: Cleans `population_by_country_2020.csv` and also merge data with `etl_country_vaccinations.ipynb`\n",
    "  \n",
    "\n",
    "### Challenges\n",
    "Describe any challenges you've encountered so far. Let me know if there's anything you need help with!\n",
    "\n",
    "### Future Work\n",
    "Describe what work you are planning to complete for the final analysis.\n",
    "1. Create a ML model for prediting when seleted country will be fully vax.\n",
    "2. Tree map shows the vaccine schema that is used in each country.\n",
    "3. Line chart is showing the daily vaccination of all the countries\n",
    "4. Bar graph shows the total number of people who are vaccinated at least once and the people who received fully vaccinated in the top 10 countries\n",
    "### Contributions\n",
    "Describe the contributions that each group member made.\n",
    "\n",
    "\n"
   ]
  }
 ],
 "metadata": {
  "kernelspec": {
   "display_name": "Python 3",
   "language": "python",
   "name": "python3"
  },
  "language_info": {
   "codemirror_mode": {
    "name": "ipython",
    "version": 3
   },
   "file_extension": ".py",
   "mimetype": "text/x-python",
   "name": "python",
   "nbconvert_exporter": "python",
   "pygments_lexer": "ipython3",
   "version": "3.8.5"
  }
 },
 "nbformat": 4,
 "nbformat_minor": 4
}
