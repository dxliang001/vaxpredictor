{
 "cells": [
  {
   "cell_type": "markdown",
   "metadata": {},
   "source": [
    "# \n",
    "\n",
    "### Group Members\n",
    "- Alex Liang\n",
    "- Xing Yang\n",
    "- Edgar Pineda\n",
    "\n",
    "### Repository Structure\n",
    "List each file and what it's purpose it. Make sure you indicate where your data cleaning code and data dictionary are! \n",
    "\n",
    "For example:\n",
    "- `data`\n",
    "  - `continents2.csv`:\n",
    "  - `country_vaccinations.csv`: \n",
    "  - `country_vaccinations_by_manufacturer.csv`: \n",
    "  - `population_by_country_2020.csv`: \n",
    "  - `cleaned.csv`: The cleaned and combined dataset for modeling. \n",
    "  - `data_dictionary.csv`: The data dictionary for cleaned. \n",
    "- `code`\n",
    "  - `etl_continents2.ipynb`: Cleans `continents2.csv`\n",
    "  - `etl_country_vaccinations.ipynb`: Cleans `country_vaccinations.csv`\n",
    "  - `etl_country_vaccinations_by_manufacturer.ipynb`: Cleans `country_vaccinations_by_manufacturer.csv`\n",
    "  - `etl_population_by_country_2020.ipynb`: Cleans `population_by_country_2020.csv`\n",
    "  - `exploratory_data_analysis.ipynb`: Includes descriptive statistics and charts. \n",
    "  - `build_model.ipynb`: Builds model\n",
    "\n",
    "### Exploratory Analysis\n",
    "Describe what work you have done so far and include the code. \n",
    "\n",
    "### Challenges\n",
    "Describe any challenges you've encountered so far. Let me know if there's anything you need help with!\n",
    "\n",
    "### Future Work\n",
    "Describe what work you are planning to complete for the final analysis.\n",
    "\n",
    "### Contributions\n",
    "Describe the contributions that each group member made.\n",
    "\n"
   ]
  }
 ],
 "metadata": {
  "kernelspec": {
   "display_name": "Python 3",
   "language": "python",
   "name": "python3"
  },
  "language_info": {
   "codemirror_mode": {
    "name": "ipython",
    "version": 3
   },
   "file_extension": ".py",
   "mimetype": "text/x-python",
   "name": "python",
   "nbconvert_exporter": "python",
   "pygments_lexer": "ipython3",
   "version": "3.8.5"
  }
 },
 "nbformat": 4,
 "nbformat_minor": 4
}
